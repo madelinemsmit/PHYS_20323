{
 "cells": [
  {
   "cell_type": "markdown",
   "metadata": {},
   "source": [
    "# Lecture 9 + Homework 4 - Logic/Control Practice"
   ]
  },
  {
   "cell_type": "markdown",
   "metadata": {},
   "source": [
    "Write a Python program to get next day of a given date.\n",
    "\n",
    "Here is a logic flowchart to help"
   ]
  },
  {
   "attachments": {
    "python-conditional-exercise-41.png": {
     "image/png": "[encoded data removed]"
    }
   },
   "cell_type": "markdown",
   "metadata": {},
   "source": [
    "![python-conditional-exercise-41.png](attachment:python-conditional-exercise-41.png)"
   ]
  },
  {
   "cell_type": "code",
   "execution_count": 1,
   "metadata": {},
   "outputs": [
    {
     "name": "stdout",
     "output_type": "stream",
     "text": [
      "Input a year: 6\n",
      "Input a month [1-12]: 6\n",
      "Input a day [1-31]: 2\n",
      "The next date is [yyyy-mm-dd] 6-6-3.\n"
     ]
    }
   ],
   "source": [
    "year = int(input(\"Input a year: \"))\n",
    "\n",
    "if (year % 400 == 0):\n",
    "    leap_year = True\n",
    "elif (year % 100 == 0):\n",
    "    leap_year = False\n",
    "elif (year % 4 == 0):\n",
    "    leap_year = True\n",
    "else:\n",
    "    leap_year = False\n",
    "\n",
    "month = int(input(\"Input a month [1-12]: \"))\n",
    "\n",
    "if month in (1, 3, 5, 7, 8, 10, 12):\n",
    "    month_length = 31\n",
    "elif month == 2:\n",
    "    if leap_year:\n",
    "        month_length = 29\n",
    "    else:\n",
    "        month_length = 28\n",
    "else:\n",
    "    month_length = 30\n",
    "\n",
    "\n",
    "day = int(input(\"Input a day [1-31]: \"))\n",
    "\n",
    "if day < month_length:\n",
    "    day += 1\n",
    "else:\n",
    "    day = 1\n",
    "    if month == 12:\n",
    "        month = 1\n",
    "        year += 1\n",
    "    else:\n",
    "        month += 1\n",
    "print(\"The next date is [yyyy-mm-dd] %d-%d-%d.\" % (year, month, day))"
   ]
  },
  {
   "cell_type": "markdown",
   "metadata": {},
   "source": [
    "## Exercise \\#1"
   ]
  },
  {
   "cell_type": "markdown",
   "metadata": {},
   "source": [
    "Write a Python program which iterates the integers from 1 to 50. For multiples of three print \"Fizz\" instead of the number and for the multiples of five print \"Buzz\". For numbers which are multiples of both three and five print \"FizzBuzz\"."
   ]
  },
  {
   "attachments": {
    "python-conditional-exercise-10.png": {
     "image/png": "[encoded data removed]"
    }
   },
   "cell_type": "markdown",
   "metadata": {},
   "source": [
    "![python-conditional-exercise-10.png](attachment:python-conditional-exercise-10.png)"
   ]
  },
  {
   "cell_type": "code",
   "execution_count": 18,
   "metadata": {},
   "outputs": [
    {
     "name": "stdout",
     "output_type": "stream",
     "text": [
      "Input a number between 1 and 50 :2\n",
      "No.\n"
     ]
    }
   ],
   "source": [
    "number = int(input(\"Input a number between 1 and 50 :\"))\n",
    "if (number > 50):\n",
    "    print('error')\n",
    "elif (number < 1):\n",
    "    print('error')\n",
    "    \n",
    "elif (number % 3 == 0) and (number % 5 == 0):\n",
    "    print ('FizzBuzz')\n",
    "    \n",
    "elif (number % 3 == 0):\n",
    "    print('Fizz')\n",
    "    \n",
    "elif (number % 5 == 0):\n",
    "    print('Buzz')\n",
    "    \n",
    "else:\n",
    "    print ('No.')\n",
    "    \n",
    "    \n"
   ]
  },
  {
   "cell_type": "markdown",
   "metadata": {},
   "source": [
    "## Exercise \\#2\n",
    "\n",
    "Write a Python program to calculate a dog's age in dog's years. \n",
    "\n",
    "*Note: For the first two years, a dog year is equal to 10.5 human years. After that, each dog year equals 4 human years.*"
   ]
  },
  {
   "cell_type": "code",
   "execution_count": 35,
   "metadata": {},
   "outputs": [
    {
     "name": "stdout",
     "output_type": "stream",
     "text": [
      "input a number: 4\n",
      "29\n"
     ]
    }
   ],
   "source": [
    "number = int(input('input a number: '))\n",
    "\n",
    "if number < 0:\n",
    "    print('not yet alive')\n",
    "    \n",
    "elif number > 20:\n",
    "    print('dead')\n",
    "    \n",
    "elif number <= 2:\n",
    "    print(number*10.5)\n",
    "\n",
    "else:\n",
    "    print((number-2)*4+21)"
   ]
  },
  {
   "cell_type": "markdown",
   "metadata": {},
   "source": [
    "## Exercise \\#3\n",
    "\n",
    "Write a Python program to check whether an alphabet is a vowel or consonant."
   ]
  },
  {
   "cell_type": "code",
   "execution_count": 4,
   "metadata": {},
   "outputs": [
    {
     "name": "stdout",
     "output_type": "stream",
     "text": [
      "imput a letter: t\n",
      "constant\n"
     ]
    }
   ],
   "source": [
    "letter = (input(\"imput a letter: \"))\n",
    "\n",
    "if (letter == 'y'):\n",
    "    print('undecided')\n",
    "    \n",
    "elif (letter == 'a'or letter == 'e' or letter == 'i' or letter == 'o' or letter == 'u'):\n",
    "    print('vowel')\n",
    "\n",
    "else:\n",
    "    print('constant')"
   ]
  },
  {
   "cell_type": "markdown",
   "metadata": {},
   "source": [
    "## Exercise \\#4\n",
    "\n",
    "Write a Python program to check a triangle is equilateral, isosceles or scalene. \n",
    "\n",
    "*Note :\n",
    "An equilateral triangle is a triangle in which all three sides are equal.\n",
    "A scalene triangle is a triangle that has three unequal sides.\n",
    "An isosceles triangle is a triangle with (at least) two equal sides.*"
   ]
  },
  {
   "cell_type": "code",
   "execution_count": 1,
   "metadata": {},
   "outputs": [
    {
     "name": "stdout",
     "output_type": "stream",
     "text": [
      "enter length of side 1: 8\n",
      "enter length of side 2: 8\n",
      "enter length of side 3: 8\n",
      "triangle is equalateral\n"
     ]
    }
   ],
   "source": [
    "first  = int(input('enter length of side 1: '))\n",
    "second = int(input('enter length of side 2: '))\n",
    "third = int(input('enter length of side 3: '))\n",
    "\n",
    "if first == second and first == third: \n",
    "    print('triangle is equalateral')\n",
    "    \n",
    "elif first == second or first == third or second == third:\n",
    "    print('triangle is isosceles')\n",
    "    \n",
    "else:\n",
    "    print('triangle is scalene')"
   ]
  },
  {
   "cell_type": "markdown",
   "metadata": {},
   "source": [
    "## Exercise \\#5 \n",
    "\n",
    "Write a Python program to convert temperatures to and from celsius, fahrenheit. \n",
    "\n",
    " Formula : c/5 = f-32/9 ; \n",
    " where c = temperature in celsius and f = temperature in fahrenheit "
   ]
  },
  {
   "cell_type": "code",
   "execution_count": 55,
   "metadata": {},
   "outputs": [
    {
     "name": "stdout",
     "output_type": "stream",
     "text": [
      "temperature: 0\n",
      "unit (F for Fahrenhiet or C for Celsius): C\n",
      "32.0 Degrees Farhenheit\n"
     ]
    }
   ],
   "source": [
    "temperature = int(input('temperature: '))\n",
    "unit = input('unit (F for Fahrenhiet or C for Celsius): ')\n",
    "\n",
    "if unit == 'C'or unit == 'c':\n",
    "    print(temperature * 9/5 + 32, 'Degrees Farhenheit')\n",
    "    \n",
    "elif unit== 'F' or unit == 'f':\n",
    "    print(temperature * 5/9 - 32, 'Degrees Celsius')\n",
    "    \n",
    "else:\n",
    "    print('incorrect unit!')\n",
    "    \n"
   ]
  },
  {
   "cell_type": "markdown",
   "metadata": {},
   "source": [
    "#  HOMEWORK 4 Wrap up & Turn In"
   ]
  },
  {
   "cell_type": "markdown",
   "metadata": {},
   "source": [
    "To turn in, upload to your GitHub account using Git Desktop by Friday, September 22rd, 5pm"
   ]
  }
 ],
 "metadata": {
  "kernelspec": {
   "display_name": "Python 3 (ipykernel)",
   "language": "python",
   "name": "python3"
  },
  "language_info": {
   "codemirror_mode": {
    "name": "ipython",
    "version": 3
   },
   "file_extension": ".py",
   "mimetype": "text/x-python",
   "name": "python",
   "nbconvert_exporter": "python",
   "pygments_lexer": "ipython3",
   "version": "3.11.4"
  }
 },
 "nbformat": 4,
 "nbformat_minor": 4
}
